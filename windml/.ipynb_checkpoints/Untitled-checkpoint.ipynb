{
 "cells": [
  {
   "cell_type": "code",
   "execution_count": 2,
   "metadata": {},
   "outputs": [
    {
     "ename": "ImportError",
     "evalue": "No module named 'matplotlib.pyplot.imread'; 'matplotlib.pyplot' is not a package",
     "output_type": "error",
     "traceback": [
      "\u001b[0;31m---------------------------------------------------------------------------\u001b[0m",
      "\u001b[0;31mImportError\u001b[0m                               Traceback (most recent call last)",
      "\u001b[0;32m<ipython-input-2-f0d79233506e>\u001b[0m in \u001b[0;36m<module>\u001b[0;34m()\u001b[0m\n\u001b[1;32m      5\u001b[0m \u001b[0;32mimport\u001b[0m \u001b[0mpandas\u001b[0m \u001b[0;32mas\u001b[0m \u001b[0mpd\u001b[0m\u001b[0;34m\u001b[0m\u001b[0m\n\u001b[1;32m      6\u001b[0m \u001b[0;32mimport\u001b[0m \u001b[0mscipy\u001b[0m \u001b[0;32mas\u001b[0m \u001b[0msp\u001b[0m\u001b[0;34m\u001b[0m\u001b[0m\n\u001b[0;32m----> 7\u001b[0;31m \u001b[0;32mimport\u001b[0m \u001b[0mmatplotlib\u001b[0m\u001b[0;34m.\u001b[0m\u001b[0mpyplot\u001b[0m\u001b[0;34m.\u001b[0m\u001b[0mimread\u001b[0m\u001b[0;34m\u001b[0m\u001b[0m\n\u001b[0m\u001b[1;32m      8\u001b[0m \u001b[0;34m\u001b[0m\u001b[0m\n\u001b[1;32m      9\u001b[0m \u001b[0;34m\u001b[0m\u001b[0m\n",
      "\u001b[0;31mImportError\u001b[0m: No module named 'matplotlib.pyplot.imread'; 'matplotlib.pyplot' is not a package"
     ]
    }
   ],
   "source": [
    "#%%############################################################################ imports\n",
    "import matplotlib.pyplot as plt\n",
    "import numpy as np\n",
    "import os\n",
    "import pandas as pd\n",
    "import scipy as sp\n",
    "import plt.imread\n",
    "\n",
    "\n",
    "home=os.path.expanduser(\"~/\")\n",
    "os.chdir(home)\n",
    "\n",
    "#%%############################################################################# SVM\n",
    "\n",
    "# select path and file\n",
    "path = '/home/romeo/Nextcloud/RI-Romeo/WindML/Data/'\n",
    "file = 'Wav1'\n",
    "\n",
    "# read and rescale image / spectrogram\n",
    "XX = sp.ndimage.imread(path+file+'.png').T/255.0\n",
    "ly,lx= XX.shape\n",
    "\n",
    "# read manual classification data\n",
    "YY = np.array(pd.read_csv(path+file+'.txt')['Status'])\n",
    "\n",
    "# set labels of different noises\n",
    "labels = {1:'normal', 2:'other', 3:'vehicles', 4:'voices', 5:'setup', 6:'airplanes'}\n",
    "\n",
    "#%%# plot data\n",
    "\n",
    "plt.subplot(211)\n",
    "plt.imshow(XX.T, cmap='Greys', interpolation='nearest', aspect='auto', extent=[0,lx,0,ly])\n",
    "plt.xlabel('time')\n",
    "plt.ylabel('frequency')\n",
    "\n",
    "plt.subplot(212)\n",
    "plt.plot(YY, ls='', marker='o', color='red', label='manual')\n",
    "plt.legend(loc=0)\n",
    "plt.ylabel('class')\n",
    "plt.yticks(list(labels.keys()),list(labels.values()))\n",
    "plt.xlim(0,lx)"
   ]
  },
  {
   "cell_type": "code",
   "execution_count": null,
   "metadata": {},
   "outputs": [],
   "source": []
  }
 ],
 "metadata": {
  "kernelspec": {
   "display_name": "Python 3",
   "language": "python",
   "name": "python3"
  },
  "language_info": {
   "codemirror_mode": {
    "name": "ipython",
    "version": 3
   },
   "file_extension": ".py",
   "mimetype": "text/x-python",
   "name": "python",
   "nbconvert_exporter": "python",
   "pygments_lexer": "ipython3",
   "version": "3.5.2"
  }
 },
 "nbformat": 4,
 "nbformat_minor": 2
}
